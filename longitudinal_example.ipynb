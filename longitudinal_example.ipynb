{
 "cells": [
  {
   "cell_type": "markdown",
   "metadata": {},
   "source": [
    "# "
   ]
  },
  {
   "cell_type": "code",
   "execution_count": null,
   "metadata": {},
   "outputs": [],
   "source": [
    "# load Data\n",
    "datacol = dc.get_data(\"simulated.csv\", [\"Dataset1\", \"Dataset2\", \"Dataset3\"], [\"CATSIG1\", \"CATNON2\"], \"DATASET\")\n",
    "\n",
    "# compare only baseline data\n",
    "datacol.reduce_dfs_to_value(\"TIME\", 0)\n",
    "\n",
    "# exlude following features from comparison\n",
    "exclude_feats = [\"TIME\", \"DATASET\"]\n",
    "\n",
    "# feature subset of interest\n",
    "feats = [\"FEAT1\"]"
   ]
  },
  {
   "cell_type": "code",
   "execution_count": null,
   "metadata": {},
   "outputs": [],
   "source": []
  },
  {
   "cell_type": "code",
   "execution_count": null,
   "metadata": {},
   "outputs": [],
   "source": []
  }
 ],
 "metadata": {
  "kernelspec": {
   "display_name": "Python 3",
   "language": "python",
   "name": "python3"
  },
  "language_info": {
   "codemirror_mode": {
    "name": "ipython",
    "version": 3
   },
   "file_extension": ".py",
   "mimetype": "text/x-python",
   "name": "python",
   "nbconvert_exporter": "python",
   "pygments_lexer": "ipython3",
   "version": "3.5.2"
  }
 },
 "nbformat": 4,
 "nbformat_minor": 2
}
