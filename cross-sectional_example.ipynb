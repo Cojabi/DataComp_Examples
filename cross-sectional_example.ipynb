{
 "cells": [
  {
   "cell_type": "markdown",
   "metadata": {},
   "source": [
    "# Imports"
   ]
  },
  {
   "cell_type": "code",
   "execution_count": null,
   "metadata": {},
   "outputs": [],
   "source": [
    "import datacomp as dc"
   ]
  },
  {
   "cell_type": "markdown",
   "metadata": {},
   "source": [
    "# Data setup"
   ]
  },
  {
   "cell_type": "code",
   "execution_count": null,
   "metadata": {},
   "outputs": [],
   "source": [
    "# load Data\n",
    "datacol = dc.get_data(\"simulated.csv\", [\"Dataset1\", \"Dataset2\", \"Dataset3\"], [\"CATSIG1\", \"CATNON2\"], \"DATASET\")\n",
    "\n",
    "# compare only baseline data\n",
    "datacol.reduce_dfs_to_value(\"TIME\", 0)\n",
    "\n",
    "# exlude following features from comparison\n",
    "exclude_feats = [\"TIME\", \"DATASET\", \"ENTITY\"]\n",
    "\n",
    "# columns storing strings; for clustering\n",
    "str_cols=[\"CATSIG1\"]"
   ]
  },
  {
   "cell_type": "markdown",
   "metadata": {},
   "source": [
    "# Visualize feature overlap"
   ]
  },
  {
   "cell_type": "code",
   "execution_count": null,
   "metadata": {},
   "outputs": [],
   "source": [
    "datacol.feat_venn_diagram()"
   ]
  },
  {
   "cell_type": "markdown",
   "metadata": {},
   "source": [
    "# Statistical comparison"
   ]
  },
  {
   "cell_type": "code",
   "execution_count": null,
   "metadata": {
    "scrolled": false
   },
   "outputs": [],
   "source": [
    "# sorting by index because by default the resulting dataframe will be sorted \n",
    "# based on signficance. This can be hard to read if multiple datasets are \n",
    "# involved\n",
    "results = datacol.analyze_feature_ranges(exclude=exclude_feats).sort_index()\n",
    "results"
   ]
  },
  {
   "cell_type": "markdown",
   "metadata": {},
   "source": [
    "# Visualization of significant deviations"
   ]
  },
  {
   "cell_type": "code",
   "execution_count": null,
   "metadata": {},
   "outputs": [],
   "source": [
    "dc.plot_sig_num_feats(datacol, results)"
   ]
  },
  {
   "cell_type": "markdown",
   "metadata": {},
   "source": [
    "# MANOVA"
   ]
  },
  {
   "cell_type": "code",
   "execution_count": null,
   "metadata": {},
   "outputs": [],
   "source": [
    "dc.manova(datacol, \"DATASET\", [\"NDNON1\", \"NDNON2\", \"BATCH2\"])"
   ]
  },
  {
   "cell_type": "markdown",
   "metadata": {},
   "source": [
    "# Clustering"
   ]
  },
  {
   "cell_type": "code",
   "execution_count": null,
   "metadata": {},
   "outputs": [],
   "source": [
    "purity, confusion_m = datacol.hierarchical_clustering(str_cols=str_cols)\n",
    "print(\"Cluster purity:\", purity)\n",
    "confusion_m"
   ]
  }
 ],
 "metadata": {
  "kernelspec": {
   "display_name": "Python 3",
   "language": "python",
   "name": "python3"
  },
  "language_info": {
   "codemirror_mode": {
    "name": "ipython",
    "version": 3
   },
   "file_extension": ".py",
   "mimetype": "text/x-python",
   "name": "python",
   "nbconvert_exporter": "python",
   "pygments_lexer": "ipython3",
   "version": "3.5.2"
  }
 },
 "nbformat": 4,
 "nbformat_minor": 2
}
